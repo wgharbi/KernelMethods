{
 "cells": [
  {
   "cell_type": "code",
   "execution_count": 9,
   "metadata": {
    "collapsed": true
   },
   "outputs": [],
   "source": [
    "import pandas as pd\n",
    "import numpy as np\n",
    "from scipy import linalg\n",
    "from scipy.spatial.distance import pdist, squareform\n",
    "from scipy import exp\n",
    "from scipy.linalg import eigh\n"
   ]
  },
  {
   "cell_type": "code",
   "execution_count": 21,
   "metadata": {
    "collapsed": false
   },
   "outputs": [],
   "source": [
    "class rbfpca():\n",
    "    def __init__(self, n_components = None, gamma = None):\n",
    "        self.n_components = n_components\n",
    "        self.gamma = gamma \n",
    "\n",
    "    def fit_transform(self, X): \n",
    "        # Calculating the squared Euclidean distances for every pair of points\n",
    "        # in the MxN dimensional dataset.\n",
    "        sq_dists = pdist(X, 'sqeuclidean')\n",
    "\n",
    "        # Converting the pairwise distances into a symmetric MxM matrix.\n",
    "        mat_sq_dists = squareform(sq_dists)\n",
    "\n",
    "        # Computing the MxM kernel matrix.\n",
    "        gamma = self.gamma\n",
    "        K = exp(-gamma * mat_sq_dists)\n",
    "\n",
    "        # Centering the symmetric NxN kernel matrix.\n",
    "        N = K.shape[0]\n",
    "        one_n = np.ones((N,N)) / N\n",
    "        K_norm = K - one_n.dot(K) - K.dot(one_n) + one_n.dot(K).dot(one_n)\n",
    "        eigvals, eigvecs = eigh(K_norm)\n",
    "        # Obtaining the i eigenvectors (alphas) that corresponds to the i highest eigenvalues (lambdas).\n",
    "        n_components = self.n_components\n",
    "        alphas = np.column_stack((eigvecs[:,-i] for i in range(1,n_components+1)))\n",
    "        lambdas = [eigvals[-i] for i in range(1,n_components+1)]\n",
    "        self.lambdas = lambdas\n",
    "        self.alphas = alphas\n",
    "        self.X_fit = X\n",
    "        return alphas\n",
    "\n",
    "    def transform(self, X):\n",
    "        gamma = self.gamma\n",
    "        alphas = self.alphas\n",
    "        lambdas = self.lambdas\n",
    "        X_fit = self.X_fit\n",
    "        pairs_d = []\n",
    "        for x in X:\n",
    "            pair_d = [np.sum((x-row)**2) for row in X_fit]\n",
    "            pairs_d.append(pair_d)\n",
    "        pairs_dist = np.array(pairs_d)\n",
    "        print pairs_dist.shape\n",
    "        k = np.exp(-gamma * pairs_dist)\n",
    "        print k.shape, alphas.shape\n",
    "        return k.dot(alphas / lambdas)"
   ]
  },
  {
   "cell_type": "code",
   "execution_count": 3,
   "metadata": {
    "collapsed": false
   },
   "outputs": [],
   "source": [
    "path=\"\"\n",
    "X =pd.read_csv(path+\"Xtr.csv\", header=None)\n",
    "Y =pd.read_csv(path+\"Ytr.csv\")"
   ]
  },
  {
   "cell_type": "code",
   "execution_count": 4,
   "metadata": {
    "collapsed": false
   },
   "outputs": [],
   "source": [
    "from sklearn.cross_validation import train_test_split\n",
    "from sklearn.preprocessing import StandardScaler\n",
    "X_train, X_test, y_train, y_test = train_test_split(\n",
    "        X, Y[\"Prediction\"], test_size=0.2)"
   ]
  },
  {
   "cell_type": "code",
   "execution_count": 5,
   "metadata": {
    "collapsed": false
   },
   "outputs": [
    {
     "data": {
      "text/plain": [
       "(5000, 784)"
      ]
     },
     "execution_count": 5,
     "metadata": {},
     "output_type": "execute_result"
    }
   ],
   "source": [
    "X.shape\n"
   ]
  },
  {
   "cell_type": "code",
   "execution_count": 6,
   "metadata": {
    "collapsed": false
   },
   "outputs": [
    {
     "data": {
      "text/plain": [
       "SVC(C=1.0, cache_size=200, class_weight=None, coef0=0.0,\n",
       "  decision_function_shape=None, degree=3, gamma='auto', kernel='rbf',\n",
       "  max_iter=-1, probability=False, random_state=None, shrinking=True,\n",
       "  tol=0.001, verbose=False)"
      ]
     },
     "execution_count": 6,
     "metadata": {},
     "output_type": "execute_result"
    }
   ],
   "source": [
    "from sklearn.svm import SVC\n",
    "svc = SVC()\n",
    "svc.fit(X_train,y_train)\n"
   ]
  },
  {
   "cell_type": "code",
   "execution_count": 7,
   "metadata": {
    "collapsed": false
   },
   "outputs": [
    {
     "name": "stdout",
     "output_type": "stream",
     "text": [
      "0.85\n"
     ]
    }
   ],
   "source": [
    "from sklearn.metrics import accuracy_score\n",
    "predicted_labels = svc.predict(X_test)\n",
    "print accuracy_score(predicted_labels,y_test)\n"
   ]
  },
  {
   "cell_type": "code",
   "execution_count": 12,
   "metadata": {
    "collapsed": false
   },
   "outputs": [
    {
     "data": {
      "text/plain": [
       "(4000, 784)"
      ]
     },
     "execution_count": 12,
     "metadata": {},
     "output_type": "execute_result"
    }
   ],
   "source": [
    "X_train.shape"
   ]
  },
  {
   "cell_type": "code",
   "execution_count": 22,
   "metadata": {
    "collapsed": false
   },
   "outputs": [
    {
     "name": "stdout",
     "output_type": "stream",
     "text": [
      "(1000, 4000)\n",
      "(1000, 4000) (4000, 35)\n"
     ]
    }
   ],
   "source": [
    "from sklearn.decomposition import KernelPCA\n",
    "kpca = KernelPCA(kernel = 'rbf', degree = 3, n_components= 35, gamma= 0.01)\n",
    "kpca = rbfpca(n_components= 35, gamma= 0.01)\n",
    "\n",
    "X_train_kpca = kpca.fit_transform(X_train.as_matrix())\n",
    "X_test_kpca = kpca.transform(X_test.as_matrix())"
   ]
  },
  {
   "cell_type": "code",
   "execution_count": 23,
   "metadata": {
    "collapsed": false
   },
   "outputs": [
    {
     "data": {
      "text/plain": [
       "((1000, 784), (4000, 35))"
      ]
     },
     "execution_count": 23,
     "metadata": {},
     "output_type": "execute_result"
    }
   ],
   "source": [
    "X_test.shape, X_train_kpca.shape"
   ]
  },
  {
   "cell_type": "code",
   "execution_count": 24,
   "metadata": {
    "collapsed": false
   },
   "outputs": [
    {
     "name": "stdout",
     "output_type": "stream",
     "text": [
      "('SVM - Best C & associated score', {'n_neighbors': 6}, 0.89024999999999999)\n",
      "('SVM - Score on test_data : ', 1.0)\n",
      "('SVM - Score on test_data : ', 0.879)\n",
      "CPU times: user 4.7 s, sys: 91.4 ms, total: 4.79 s\n",
      "Wall time: 20.9 s\n"
     ]
    }
   ],
   "source": [
    "%%time \n",
    "from sklearn.grid_search import GridSearchCV \n",
    "from sklearn.neighbors import KNeighborsClassifier\n",
    "NN = {'n_neighbors': range(1,15,1)}\n",
    "knn = KNeighborsClassifier(weights='distance')\n",
    "grid_search = GridSearchCV(knn, NN, n_jobs = 3)\n",
    "alg = grid_search.fit(X_train_kpca, y_train)\n",
    "#alg = knn.fit(X_train_kpca, y_train)\n",
    "predicted_label = alg.predict(X_test_kpca)\n",
    "\n",
    "print(\"SVM - Best C & associated score\", grid_search.best_params_, grid_search.best_score_)\n",
    "print(\"SVM - Score on test_data : \", accuracy_score(y_train, alg.predict(X_train_kpca)))\n",
    "print(\"SVM - Score on test_data : \", accuracy_score(y_test, predicted_label))"
   ]
  },
  {
   "cell_type": "code",
   "execution_count": 7,
   "metadata": {
    "collapsed": false
   },
   "outputs": [
    {
     "name": "stdout",
     "output_type": "stream",
     "text": [
      "('SVM - Best C & associated score', {'C': 1.0}, 0.82999999999999996)\n",
      "('SVM - Score on test_data : ', 0.86275000000000002)\n",
      "('SVM - Score on test_data : ', 0.85999999999999999)\n"
     ]
    }
   ],
   "source": [
    "from sklearn.grid_search import GridSearchCV \n",
    "Cs = {'C': np.logspace(-5, 0, 10)}\n",
    "\n",
    "grid_search = GridSearchCV(SVC(cache_size= 1000), Cs, n_jobs = 3)\n",
    "alg = grid_search.fit(X_train, y_train)\n",
    "predicted_label = alg.predict(X_test)\n",
    "\n",
    "print(\"SVM - Best C & associated score\", grid_search.best_params_, grid_search.best_score_)\n",
    "print(\"SVM - Score on test_data : \", accuracy_score(y_train, alg.predict(X_train)))\n",
    "print(\"SVM - Score on test_data : \", accuracy_score(y_test, predicted_label))\n"
   ]
  },
  {
   "cell_type": "code",
   "execution_count": 8,
   "metadata": {
    "collapsed": false
   },
   "outputs": [
    {
     "name": "stdout",
     "output_type": "stream",
     "text": [
      "0.12\n"
     ]
    }
   ],
   "source": [
    "from sklearn.metrics import accuracy_score\n",
    "from sklearn.svm import SVC\n",
    "svc = SVC(kernel='poly')\n",
    "svc.fit(X_train,y_train)\n",
    "predicted_labels = svc.predict(X_test)\n",
    "print accuracy_score(predicted_labels,y_test)\n"
   ]
  },
  {
   "cell_type": "code",
   "execution_count": 9,
   "metadata": {
    "collapsed": false
   },
   "outputs": [
    {
     "name": "stdout",
     "output_type": "stream",
     "text": [
      "0.852\n"
     ]
    }
   ],
   "source": [
    "svc = SVC(kernel='linear')\n",
    "svc.fit(X_train,y_train)\n",
    "predicted_labels = svc.predict(X_test)\n",
    "print accuracy_score(predicted_labels,y_test)\n"
   ]
  },
  {
   "cell_type": "code",
   "execution_count": null,
   "metadata": {
    "collapsed": true
   },
   "outputs": [],
   "source": []
  }
 ],
 "metadata": {
  "kernelspec": {
   "display_name": "Python 2",
   "language": "python",
   "name": "python2"
  },
  "language_info": {
   "codemirror_mode": {
    "name": "ipython",
    "version": 2
   },
   "file_extension": ".py",
   "mimetype": "text/x-python",
   "name": "python",
   "nbconvert_exporter": "python",
   "pygments_lexer": "ipython2",
   "version": "2.7.11"
  }
 },
 "nbformat": 4,
 "nbformat_minor": 0
}
