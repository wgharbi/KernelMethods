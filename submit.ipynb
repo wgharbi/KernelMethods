{
 "cells": [
  {
   "cell_type": "code",
   "execution_count": 1,
   "metadata": {
    "collapsed": true
   },
   "outputs": [],
   "source": [
    "import pandas as pd\n",
    "import numpy as np\n",
    "from scipy import linalg\n",
    "from scipy.spatial.distance import pdist, squareform\n",
    "from scipy import exp\n",
    "from scipy.linalg import eigh\n"
   ]
  },
  {
   "cell_type": "code",
   "execution_count": 2,
   "metadata": {
    "collapsed": true
   },
   "outputs": [],
   "source": [
    "class rbfpca():\n",
    "    def __init__(self, n_components = None, gamma = None):\n",
    "        self.n_components = n_components\n",
    "        self.gamma = gamma \n",
    "\n",
    "    def fit_transform(self, X): \n",
    "        # Calculating the squared Euclidean distances for every pair of points\n",
    "        # in the MxN dimensional dataset.\n",
    "        sq_dists = pdist(X, 'sqeuclidean')\n",
    "\n",
    "        # Converting the pairwise distances into a symmetric MxM matrix.\n",
    "        mat_sq_dists = squareform(sq_dists)\n",
    "\n",
    "        # Computing the MxM kernel matrix.\n",
    "        gamma = self.gamma\n",
    "        K = exp(-gamma * mat_sq_dists)\n",
    "\n",
    "        # Centering the symmetric NxN kernel matrix.\n",
    "        N = K.shape[0]\n",
    "        one_n = np.ones((N,N)) / N\n",
    "        K_norm = K - one_n.dot(K) - K.dot(one_n) + one_n.dot(K).dot(one_n)\n",
    "        eigvals, eigvecs = eigh(K_norm)\n",
    "        # Obtaining the i eigenvectors (alphas) that corresponds to the i highest eigenvalues (lambdas).\n",
    "        n_components = self.n_components\n",
    "        alphas = np.column_stack((eigvecs[:,-i] for i in range(1,n_components+1)))\n",
    "        lambdas = [eigvals[-i] for i in range(1,n_components+1)]\n",
    "        self.lambdas = lambdas\n",
    "        self.alphas = alphas\n",
    "        self.X_fit = X\n",
    "        return alphas\n",
    "\n",
    "    def transform(self, X):\n",
    "        gamma = self.gamma\n",
    "        alphas = self.alphas\n",
    "        lambdas = self.lambdas\n",
    "        X_fit = self.X_fit\n",
    "        pairs_d = []\n",
    "        for x in X:\n",
    "            pair_d = [np.sum((x-row)**2) for row in X_fit]\n",
    "            pairs_d.append(pair_d)\n",
    "        pairs_dist = np.array(pairs_d)\n",
    "        print pairs_dist.shape\n",
    "        k = np.exp(-gamma * pairs_dist)\n",
    "        print k.shape, alphas.shape\n",
    "        return k.dot(alphas / lambdas)"
   ]
  },
  {
   "cell_type": "code",
   "execution_count": 3,
   "metadata": {
    "collapsed": true
   },
   "outputs": [],
   "source": [
    "import numpy as np\n",
    "class k_nn:\n",
    "    def __init__(self, n_neighbor = 5, weigh_dist = True):\n",
    "        self.n_neighbor = n_neighbor\n",
    "        self.weigh_dist = weigh_dist\n",
    "    def fit(self, X, y):\n",
    "        self.training_set = X\n",
    "        self.training_label = y\n",
    "        return self\n",
    "    def distance(self,X,Y) :\n",
    "        return np.sum((X-Y)**2)\n",
    "            \n",
    "    def find_nn(self,X):\n",
    "        distances = []\n",
    "        neighbors = []\n",
    "        train_set = self.training_set\n",
    "        for x in X:\n",
    "            neigh = []\n",
    "            dist = []\n",
    "            for i,t in enumerate(train_set):\n",
    "                dist.append(self.distance(x,t))\n",
    "            dist = np.array(dist)\n",
    "            neigh = np.argsort(dist)\n",
    "            dist = dist[neigh]\n",
    "            distances.append(dist)\n",
    "            neighbors.append(neigh)\n",
    "       \n",
    "        return np.array(neighbors),np.array(distances)\n",
    "    \n",
    "    def predict(self, X):\n",
    "        prediction = []\n",
    "        neighbors, distances = self.find_nn(X)\n",
    "        #print neighbors[:,0:self.n_neighbor]\n",
    "        #print distances[:,0:self.n_neighbor]\n",
    "        for i,x in enumerate(X):           \n",
    "            count = np.zeros(10)\n",
    "            for j, neigh in enumerate(neighbors[i][0:self.n_neighbor]):\n",
    "                #print j\n",
    "                #print (self.training_label)[j]\n",
    "                if(self.weigh_dist):\n",
    "                    count[self.training_label[neigh]]+= 1./distances[i,j]\n",
    "                else:\n",
    "                    count[self.training_label[neigh]]+= 1\n",
    "                    \n",
    "            prediction.append(np.argmax(count))\n",
    "        return prediction"
   ]
  },
  {
   "cell_type": "code",
   "execution_count": 4,
   "metadata": {
    "collapsed": true
   },
   "outputs": [],
   "source": [
    "path=\"\"\n",
    "X_train =pd.read_csv(path+\"Xtr.csv\", header=None)\n",
    "Y =pd.read_csv(path+\"Ytr.csv\")\n",
    "X_test =pd.read_csv(path+\"Xte.csv\", header=None)\n"
   ]
  },
  {
   "cell_type": "code",
   "execution_count": 5,
   "metadata": {
    "collapsed": false
   },
   "outputs": [],
   "source": [
    "y_train = Y[\"Prediction\"].values\n",
    "X_train = X_train.values\n",
    "X_test = X_test.values"
   ]
  },
  {
   "cell_type": "code",
   "execution_count": 6,
   "metadata": {
    "collapsed": false
   },
   "outputs": [
    {
     "name": "stdout",
     "output_type": "stream",
     "text": [
      "(10000, 5000)\n",
      "(10000, 5000) (5000, 35)\n"
     ]
    },
    {
     "data": {
      "text/plain": [
       "((10000, 784), (5000, 35))"
      ]
     },
     "execution_count": 6,
     "metadata": {},
     "output_type": "execute_result"
    }
   ],
   "source": [
    "kpca = rbfpca(n_components= 35, gamma= 0.01)\n",
    "\n",
    "X_train_kpca = kpca.fit_transform(X_train)\n",
    "X_test_kpca = kpca.transform(X_test)\n",
    "X_test.shape, X_train_kpca.shape"
   ]
  },
  {
   "cell_type": "code",
   "execution_count": 7,
   "metadata": {
    "collapsed": true
   },
   "outputs": [],
   "source": [
    "knn = k_nn(n_neighbor=6)\n",
    "alg = knn.fit(X_train_kpca, y_train)\n",
    "predicted_label = alg.predict(X_test_kpca)\n"
   ]
  },
  {
   "cell_type": "code",
   "execution_count": 8,
   "metadata": {
    "collapsed": false
   },
   "outputs": [
    {
     "data": {
      "text/plain": [
       "(10000, 784)"
      ]
     },
     "execution_count": 8,
     "metadata": {},
     "output_type": "execute_result"
    }
   ],
   "source": [
    "X_test.shape"
   ]
  },
  {
   "cell_type": "code",
   "execution_count": 22,
   "metadata": {
    "collapsed": true
   },
   "outputs": [],
   "source": [
    "def make_submission(predicted_label, name = 'submit.csv'):\n",
    "    submit_d = d = {'Id' : pd.Series(np.arange(1,X_test.shape[0]+1).astype(int)),\n",
    "                'Prediction' : pd.Series(predicted_label).astype(int)}\n",
    "    submit = pd.DataFrame(submit_d)\n",
    "    submit.to_csv(name,index=False)\n",
    "    return submit"
   ]
  },
  {
   "cell_type": "code",
   "execution_count": 23,
   "metadata": {
    "collapsed": false
   },
   "outputs": [],
   "source": [
    "submit = make_submission(predicted_label)"
   ]
  },
  {
   "cell_type": "code",
   "execution_count": 24,
   "metadata": {
    "collapsed": false
   },
   "outputs": [
    {
     "data": {
      "text/html": [
       "<div>\n",
       "<table border=\"1\" class=\"dataframe\">\n",
       "  <thead>\n",
       "    <tr style=\"text-align: right;\">\n",
       "      <th></th>\n",
       "      <th>Id</th>\n",
       "      <th>Prediction</th>\n",
       "    </tr>\n",
       "  </thead>\n",
       "  <tbody>\n",
       "    <tr>\n",
       "      <th>count</th>\n",
       "      <td>10000.00000</td>\n",
       "      <td>10000.000000</td>\n",
       "    </tr>\n",
       "    <tr>\n",
       "      <th>mean</th>\n",
       "      <td>5000.50000</td>\n",
       "      <td>4.392900</td>\n",
       "    </tr>\n",
       "    <tr>\n",
       "      <th>std</th>\n",
       "      <td>2886.89568</td>\n",
       "      <td>2.949068</td>\n",
       "    </tr>\n",
       "    <tr>\n",
       "      <th>min</th>\n",
       "      <td>1.00000</td>\n",
       "      <td>0.000000</td>\n",
       "    </tr>\n",
       "    <tr>\n",
       "      <th>25%</th>\n",
       "      <td>2500.75000</td>\n",
       "      <td>2.000000</td>\n",
       "    </tr>\n",
       "    <tr>\n",
       "      <th>50%</th>\n",
       "      <td>5000.50000</td>\n",
       "      <td>4.000000</td>\n",
       "    </tr>\n",
       "    <tr>\n",
       "      <th>75%</th>\n",
       "      <td>7500.25000</td>\n",
       "      <td>7.000000</td>\n",
       "    </tr>\n",
       "    <tr>\n",
       "      <th>max</th>\n",
       "      <td>10000.00000</td>\n",
       "      <td>9.000000</td>\n",
       "    </tr>\n",
       "  </tbody>\n",
       "</table>\n",
       "</div>"
      ],
      "text/plain": [
       "                Id    Prediction\n",
       "count  10000.00000  10000.000000\n",
       "mean    5000.50000      4.392900\n",
       "std     2886.89568      2.949068\n",
       "min        1.00000      0.000000\n",
       "25%     2500.75000      2.000000\n",
       "50%     5000.50000      4.000000\n",
       "75%     7500.25000      7.000000\n",
       "max    10000.00000      9.000000"
      ]
     },
     "execution_count": 24,
     "metadata": {},
     "output_type": "execute_result"
    }
   ],
   "source": [
    "submit.describe()"
   ]
  },
  {
   "cell_type": "code",
   "execution_count": null,
   "metadata": {
    "collapsed": true
   },
   "outputs": [],
   "source": []
  }
 ],
 "metadata": {
  "kernelspec": {
   "display_name": "Python 2",
   "language": "python",
   "name": "python2"
  },
  "language_info": {
   "codemirror_mode": {
    "name": "ipython",
    "version": 2
   },
   "file_extension": ".py",
   "mimetype": "text/x-python",
   "name": "python",
   "nbconvert_exporter": "python",
   "pygments_lexer": "ipython2",
   "version": "2.7.11"
  }
 },
 "nbformat": 4,
 "nbformat_minor": 0
}
