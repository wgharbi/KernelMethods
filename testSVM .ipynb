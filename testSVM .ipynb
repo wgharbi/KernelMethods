{
 "cells": [
  {
   "cell_type": "code",
   "execution_count": 1,
   "metadata": {
    "collapsed": false
   },
   "outputs": [],
   "source": [
    "import svm\n",
    "%matplotlib inline"
   ]
  },
  {
   "cell_type": "code",
   "execution_count": 2,
   "metadata": {
    "collapsed": true
   },
   "outputs": [],
   "source": [
    "import numpy as np\n",
    "import matplotlib.pyplot as plt\n",
    "import matplotlib.cm as cm\n",
    "import itertools"
   ]
  },
  {
   "cell_type": "code",
   "execution_count": 3,
   "metadata": {
    "collapsed": false
   },
   "outputs": [],
   "source": [
    "num_samples=50\n",
    "num_features=2\n",
    "grid_size=100\n",
    "samples = np.matrix(np.random.normal(size=num_samples * num_features)\n",
    "                    .reshape(num_samples, num_features))\n",
    "labels = 2 * (samples.sum(axis=1) > 0) - 1.0"
   ]
  },
  {
   "cell_type": "code",
   "execution_count": 4,
   "metadata": {
    "collapsed": false
   },
   "outputs": [
    {
     "name": "stdout",
     "output_type": "stream",
     "text": [
      "<class 'numpy.matrixlib.defmatrix.matrix'>\n"
     ]
    },
    {
     "data": {
      "text/plain": [
       "(50, 1)"
      ]
     },
     "execution_count": 4,
     "metadata": {},
     "output_type": "execute_result"
    }
   ],
   "source": [
    "print type(labels)\n",
    "labels.shape"
   ]
  },
  {
   "cell_type": "code",
   "execution_count": 5,
   "metadata": {
    "collapsed": false
   },
   "outputs": [],
   "source": [
    "clf = svm.SVM(C = 0.1)"
   ]
  },
  {
   "cell_type": "code",
   "execution_count": 6,
   "metadata": {
    "collapsed": false
   },
   "outputs": [
    {
     "name": "stdout",
     "output_type": "stream",
     "text": [
      "<type 'cvxopt.base.matrix'>\n",
      "     pcost       dcost       gap    pres   dres\n",
      " 0: -9.1558e+00 -8.9357e+00  2e+02  2e+01  8e-16\n",
      " 1: -1.7246e+00 -8.3380e+00  1e+01  5e-01  8e-16\n",
      " 2: -1.4112e+00 -3.2010e+00  2e+00  2e-16  5e-16\n",
      " 3: -1.7679e+00 -2.0394e+00  3e-01  1e-16  5e-16\n",
      " 4: -1.8762e+00 -1.9429e+00  7e-02  1e-16  4e-16\n",
      " 5: -1.9070e+00 -1.9097e+00  3e-03  2e-16  4e-16\n",
      " 6: -1.9085e+00 -1.9085e+00  3e-05  1e-16  4e-16\n",
      " 7: -1.9085e+00 -1.9085e+00  3e-07  1e-16  5e-16\n",
      "Optimal solution found.\n"
     ]
    },
    {
     "data": {
      "text/plain": [
       "<svm.SVM instance at 0x7f4896547b00>"
      ]
     },
     "execution_count": 6,
     "metadata": {},
     "output_type": "execute_result"
    }
   ],
   "source": [
    "clf.fit(samples, labels) "
   ]
  },
  {
   "cell_type": "code",
   "execution_count": 7,
   "metadata": {
    "collapsed": true
   },
   "outputs": [],
   "source": [
    "def plot(predictor, X, y, grid_size):\n",
    "    x_min, x_max = X[:, 0].min() - 1, X[:, 0].max() + 1\n",
    "    y_min, y_max = X[:, 1].min() - 1, X[:, 1].max() + 1\n",
    "    xx, yy = np.meshgrid(np.linspace(x_min, x_max, grid_size),\n",
    "                         np.linspace(y_min, y_max, grid_size),\n",
    "                         indexing='ij')\n",
    "    flatten = lambda m: np.array(m).reshape(-1,)\n",
    "\n",
    "    result = []\n",
    "    for (i, j) in itertools.product(range(grid_size), range(grid_size)):\n",
    "        point = np.array([xx[i, j], yy[i, j]]).reshape(1, 2)\n",
    "        result.append(predictor.predict(point))\n",
    "        \n",
    "    \n",
    "    Z = np.array(result).reshape(xx.shape)\n",
    "\n",
    "    plt.contourf(xx, yy, Z,\n",
    "                 cmap=cm.Paired,\n",
    "                 levels=[-0.001, 0.001],\n",
    "                 extend='both',\n",
    "                 alpha=0.8)\n",
    "    plt.scatter(flatten(X[:, 0]), flatten(X[:, 1]),\n",
    "                c=flatten(y), cmap=cm.Paired)\n",
    "    plt.xlim(x_min, x_max)\n",
    "    plt.ylim(y_min, y_max)\n",
    "    plt.show()"
   ]
  },
  {
   "cell_type": "code",
   "execution_count": 8,
   "metadata": {
    "collapsed": true
   },
   "outputs": [],
   "source": [
    "predictor = clf"
   ]
  },
  {
   "cell_type": "code",
   "execution_count": 9,
   "metadata": {
    "collapsed": false
   },
   "outputs": [
    {
     "name": "stderr",
     "output_type": "stream",
     "text": [
      "/home/asus/anaconda/lib/python2.7/site-packages/matplotlib/collections.py:590: FutureWarning: elementwise comparison failed; returning scalar instead, but in the future will perform elementwise comparison\n",
      "  if self._edgecolors == str('face'):\n"
     ]
    },
    {
     "data": {
      "image/png": "[encoded data removed]",
      "text/plain": [
       "<matplotlib.figure.Figure at 0x7f486a2af390>"
      ]
     },
     "metadata": {},
     "output_type": "display_data"
    }
   ],
   "source": [
    "plot(predictor, samples, labels, grid_size)"
   ]
  },
  {
   "cell_type": "code",
   "execution_count": 10,
   "metadata": {
    "collapsed": true
   },
   "outputs": [],
   "source": [
    "import pandas as pd\n",
    "path=\"\"\n",
    "X_train =pd.read_csv(path+\"Xtr.csv\", header=None)\n",
    "Y =pd.read_csv(path+\"Ytr.csv\")\n",
    "X_test =pd.read_csv(path+\"Xte.csv\", header=None)\n",
    "\n",
    "y_train = Y[\"Prediction\"].values\n",
    "X_train = X_train.values\n",
    "X_test = X_test.values\n",
    "\n",
    "from sklearn.decomposition import KernelPCA\n",
    "kpca = KernelPCA(kernel = 'rbf', degree = 3, n_components= 35, gamma= 0.01)\n",
    "\n",
    "X_train_kpca = kpca.fit_transform(X_train)\n",
    "X_test_kpca = kpca.transform(X_test)"
   ]
  },
  {
   "cell_type": "code",
   "execution_count": 11,
   "metadata": {
    "collapsed": true
   },
   "outputs": [],
   "source": [
    "def min_kernel(a, b):\n",
    "    return np.sum(np.minimum(a,b))"
   ]
  },
  {
   "cell_type": "code",
   "execution_count": 12,
   "metadata": {
    "collapsed": false
   },
   "outputs": [],
   "source": [
    "from multiclasssvm import multiclass_svm\n",
    "svm = multiclass_svm(min_kernel,0.1)"
   ]
  },
  {
   "cell_type": "code",
   "execution_count": null,
   "metadata": {
    "collapsed": false
   },
   "outputs": [
    {
     "name": "stdout",
     "output_type": "stream",
     "text": [
      "<type 'cvxopt.base.matrix'>\n",
      "     pcost       dcost       gap    pres   dres\n",
      " 0: -2.5740e+02 -1.7378e+02  4e+03  2e+01  7e-16\n",
      " 1: -3.9783e+01 -1.6024e+02  2e+02  2e-01  9e-16\n",
      " 2: -4.3138e+01 -5.1345e+01  9e+00  9e-03  7e-16\n",
      " 3: -4.6764e+01 -4.6852e+01  1e-01  9e-05  5e-16\n",
      " 4: -4.6800e+01 -4.6801e+01  1e-03  9e-07  3e-16\n",
      " 5: -4.6800e+01 -4.6800e+01  1e-05  9e-09  2e-16\n",
      "Optimal solution found.\n",
      "<type 'cvxopt.base.matrix'>\n",
      "     pcost       dcost       gap    pres   dres\n",
      " 0: -2.5740e+02 -1.7074e+02  4e+03  2e+01  7e-16\n",
      " 1: -3.9783e+01 -1.5757e+02  2e+02  2e-01  8e-16\n",
      " 2: -4.3138e+01 -5.1188e+01  9e+00  9e-03  9e-16\n",
      " 3: -4.6764e+01 -4.6850e+01  9e-02  9e-05  6e-16\n",
      " 4: -4.6800e+01 -4.6800e+01  9e-04  9e-07  3e-16\n",
      " 5: -4.6800e+01 -4.6800e+01  9e-06  9e-09  3e-16\n",
      "Optimal solution found.\n",
      "<type 'cvxopt.base.matrix'>\n",
      "     pcost       dcost       gap    pres   dres\n",
      " 0: -2.5740e+02 -1.7074e+02  4e+03  2e+01  6e-16\n",
      " 1: -3.9783e+01 -1.5757e+02  2e+02  2e-01  9e-16\n",
      " 2: -4.3138e+01 -5.1188e+01  9e+00  9e-03  8e-16\n",
      " 3: -4.6764e+01 -4.6850e+01  9e-02  9e-05  7e-16\n",
      " 4: -4.6800e+01 -4.6800e+01  9e-04  9e-07  6e-16\n",
      " 5: -4.6800e+01 -4.6800e+01  9e-06  9e-09  3e-16\n",
      "Optimal solution found.\n",
      "<type 'cvxopt.base.matrix'>\n",
      "     pcost       dcost       gap    pres   dres\n",
      " 0: -2.5740e+02 -1.6407e+02  4e+03  2e+01  7e-16\n",
      " 1: -3.9783e+01 -1.5172e+02  2e+02  2e-01  9e-16\n",
      " 2: -4.3138e+01 -5.0844e+01  8e+00  9e-03  9e-16\n",
      " 3: -4.6764e+01 -4.6846e+01  9e-02  9e-05  9e-16\n",
      " 4: -4.6800e+01 -4.6800e+01  9e-04  9e-07  5e-16\n",
      " 5: -4.6800e+01 -4.6800e+01  9e-06  9e-09  3e-16\n",
      "Optimal solution found.\n",
      "<type 'cvxopt.base.matrix'>\n",
      "     pcost       dcost       gap    pres   dres\n",
      " 0: -2.5740e+02 -1.5624e+02  4e+03  2e+01  6e-16\n",
      " 1: -3.9783e+01 -1.4486e+02  1e+02  2e-01  9e-16\n",
      " 2: -4.3137e+01 -5.0441e+01  8e+00  9e-03  1e-15\n",
      " 3: -4.6763e+01 -4.6842e+01  9e-02  9e-05  7e-16\n",
      " 4: -4.6800e+01 -4.6800e+01  9e-04  9e-07  5e-16\n",
      " 5: -4.6800e+01 -4.6800e+01  9e-06  9e-09  3e-16\n",
      "Optimal solution found.\n",
      "<type 'cvxopt.base.matrix'>\n",
      "     pcost       dcost       gap    pres   dres\n",
      " 0: -2.5740e+02 -1.7045e+02  4e+03  2e+01  7e-16\n",
      " 1: -3.9783e+01 -1.5731e+02  2e+02  2e-01  1e-15\n",
      " 2: -4.3138e+01 -5.1173e+01  9e+00  9e-03  1e-15\n",
      " 3: -4.6764e+01 -4.6850e+01  9e-02  9e-05  1e-15\n",
      " 4: -4.6800e+01 -4.6800e+01  9e-04  9e-07  7e-16\n",
      " 5: -4.6800e+01 -4.6800e+01  9e-06  9e-09  3e-16\n",
      "Optimal solution found.\n",
      "<type 'cvxopt.base.matrix'>\n",
      "     pcost       dcost       gap    pres   dres\n",
      " 0: -2.5740e+02 -1.6349e+02  4e+03  2e+01  6e-16\n",
      " 1: -3.9783e+01 -1.5121e+02  2e+02  2e-01  8e-16\n",
      " 2: -4.3138e+01 -5.0814e+01  8e+00  9e-03  9e-16\n",
      " 3: -4.6764e+01 -4.6846e+01  9e-02  9e-05  8e-16\n",
      " 4: -4.6800e+01 -4.6800e+01  9e-04  9e-07  6e-16\n",
      " 5: -4.6800e+01 -4.6800e+01  9e-06  9e-09  4e-16\n",
      "Optimal solution found.\n",
      "<type 'cvxopt.base.matrix'>\n",
      "     pcost       dcost       gap    pres   dres\n",
      " 0: -2.5740e+02 -1.6465e+02  4e+03  2e+01  7e-16\n",
      " 1: -3.9783e+01 -1.5223e+02  2e+02  2e-01  9e-16\n",
      " 2: -4.3138e+01 -5.0874e+01  9e+00  9e-03  1e-15\n",
      " 3: -4.6764e+01 -4.6847e+01  9e-02  9e-05  9e-16\n",
      " 4: -4.6800e+01 -4.6800e+01  9e-04  9e-07  6e-16\n",
      " 5: -4.6800e+01 -4.6800e+01  9e-06  9e-09  4e-16\n",
      "Optimal solution found.\n",
      "<type 'cvxopt.base.matrix'>\n",
      "     pcost       dcost       gap    pres   dres\n",
      " 0: -2.5740e+02 -1.6537e+02  4e+03  2e+01  8e-16\n",
      " 1: -3.9783e+01 -1.5287e+02  2e+02  2e-01  9e-16\n",
      " 2: -4.3138e+01 -5.0912e+01  9e+00  9e-03  1e-15\n",
      " 3: -4.6764e+01 -4.6847e+01  9e-02  9e-05  1e-15\n",
      " 4: -4.6800e+01 -4.6800e+01  9e-04  9e-07  7e-16\n",
      " 5: -4.6800e+01 -4.6800e+01  9e-06  9e-09  4e-16"
     ]
    }
   ],
   "source": [
    "classifiers = svm.fit(X_train,y_train)"
   ]
  },
  {
   "cell_type": "code",
   "execution_count": null,
   "metadata": {
    "collapsed": false
   },
   "outputs": [],
   "source": [
    "classifiers[0]"
   ]
  },
  {
   "cell_type": "code",
   "execution_count": null,
   "metadata": {
    "collapsed": false
   },
   "outputs": [],
   "source": [
    "labels_predicted = svm.predict(X_train)"
   ]
  },
  {
   "cell_type": "code",
   "execution_count": null,
   "metadata": {
    "collapsed": false
   },
   "outputs": [],
   "source": [
    "from sklearn.metrics import accuracy_score\n",
    "\n",
    "print(\"SVM - Score on train_data : \", accuracy_score(y_train, svm.predict(X_train)))"
   ]
  },
  {
   "cell_type": "code",
   "execution_count": null,
   "metadata": {
    "collapsed": true
   },
   "outputs": [],
   "source": []
  }
 ],
 "metadata": {
  "kernelspec": {
   "display_name": "Python 2",
   "language": "python",
   "name": "python2"
  },
  "language_info": {
   "codemirror_mode": {
    "name": "ipython",
    "version": 2
   },
   "file_extension": ".py",
   "mimetype": "text/x-python",
   "name": "python",
   "nbconvert_exporter": "python",
   "pygments_lexer": "ipython2",
   "version": "2.7.11"
  }
 },
 "nbformat": 4,
 "nbformat_minor": 0
}
