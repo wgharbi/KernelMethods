{
 "cells": [
  {
   "cell_type": "code",
   "execution_count": 11,
   "metadata": {
    "collapsed": true
   },
   "outputs": [],
   "source": [
    "import numpy as np\n",
    "import scipy\n",
    "from numpy.linalg import norm"
   ]
  },
  {
   "cell_type": "code",
   "execution_count": 2,
   "metadata": {
    "collapsed": false
   },
   "outputs": [],
   "source": [
    "def hinge_loss(x,y):\n",
    "    return max(0, 1- x*y)"
   ]
  },
  {
   "cell_type": "code",
   "execution_count": 9,
   "metadata": {
    "collapsed": false
   },
   "outputs": [],
   "source": [
    "class SVM:\n",
    "    def __init__(self, C = 1., loss_function = hinge_loss):\n",
    "        self.C = C\n",
    "        self.loss_function = hinge_loss\n",
    "        self.kernel_function = lambda a,b : return np.sum(np.minimum(a,b))\n",
    "        \n",
    "    def fit(self, X, y):\n",
    "        self.n_samples = X.shape[0]\n",
    "        self.n_features = X.shape[1]\n",
    "        #compute the kernel matrix\n",
    "        self.K = np.array([np.array([self.kernel_function(x,y) for y in X])for x in X])\n",
    "        \n",
    "        self.weights = np.zeros(n_features)\n",
    "        obj = lambda w,b, eps : 1/2. * norm(w) + self.C * eps.sum()\n",
    "        cons = []\n",
    "        for i in range(n_samples):\n",
    "            \n",
    "    def predict(self, X):\n",
    "        weight = [1,1,1]\n",
    "        weight = [weight[i] for  i,algo in enumerate(self.clf)]\n",
    "        print weight\n",
    "        return 1./sum(weight) *sum( [weight[i]*algo.predict(X).flatten() for i,algo in enumerate(self.clf)])\n",
    "\n"
   ]
  },
  {
   "cell_type": "code",
   "execution_count": null,
   "metadata": {
    "collapsed": true
   },
   "outputs": [],
   "source": []
  }
 ],
 "metadata": {
  "kernelspec": {
   "display_name": "Python 2",
   "language": "python",
   "name": "python2"
  },
  "language_info": {
   "codemirror_mode": {
    "name": "ipython",
    "version": 2
   },
   "file_extension": ".py",
   "mimetype": "text/x-python",
   "name": "python",
   "nbconvert_exporter": "python",
   "pygments_lexer": "ipython2",
   "version": "2.7.11"
  }
 },
 "nbformat": 4,
 "nbformat_minor": 0
}
